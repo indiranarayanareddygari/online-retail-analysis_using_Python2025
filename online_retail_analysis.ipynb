{
 "cells": [
  {
   "cell_type": "markdown",
   "id": "965a00cf-0269-4eab-8609-e5f459487449",
   "metadata": {},
   "source": [
    "# Import necessary libraries for data manipulation, visualization, and analytics "
   ]
  },
  {
   "cell_type": "code",
   "execution_count": null,
   "id": "1c45f094-1124-4206-9da3-1eb0ad04736d",
   "metadata": {},
   "outputs": [],
   "source": [
    "import pandas as pd\n",
    "import numpy as np\n",
    "import matplotlib.pyplot as plt\n",
    "import seaborn as sns\n",
    "from datetime import datetime\n",
    "!pip install mlxtend"
   ]
  },
  {
   "cell_type": "markdown",
   "id": "c3858ad6-1d06-427b-86ac-82fd5ac3982d",
   "metadata": {},
   "source": [
    "## For advance analytics like  Import specific functions for market basket analysis and clustering"
   ]
  },
  {
   "cell_type": "code",
   "execution_count": 27,
   "id": "7a34541c-f0ac-4a53-b23e-57bbbe94e76b",
   "metadata": {},
   "outputs": [],
   "source": [
    "from mlxtend.frequent_patterns import apriori, association_rules  # for basket analysis\n",
    "from sklearn.cluster import KMeans  # for RFM clustering"
   ]
  },
  {
   "cell_type": "markdown",
   "id": "3089fa98-0092-434d-911f-f61265274b1c",
   "metadata": {},
   "source": [
    "## load and Clean the data "
   ]
  },
  {
   "cell_type": "code",
   "execution_count": 28,
   "id": "ca0fb134-9056-429b-ac4d-96bd0e909644",
   "metadata": {},
   "outputs": [],
   "source": [
    "df = pd.read_csv('online retail.csv', encoding='utf-8-sig')"
   ]
  },
  {
   "cell_type": "markdown",
   "id": "ae6dd0cd-a4ad-4281-92ab-bde62c88baed",
   "metadata": {},
   "source": [
    " # Print dataset size"
   ]
  },
  {
   "cell_type": "code",
   "execution_count": null,
   "id": "238f7163-24a6-41c6-a3cb-8eea98c56444",
   "metadata": {},
   "outputs": [],
   "source": [
    "print(f\"Rows: {df.shape[0]}, Columns: {df.shape[1]}\")"
   ]
  },
  {
   "cell_type": "markdown",
   "id": "4c8dd77a-f30e-4bc1-bae2-e09af77fdf9a",
   "metadata": {},
   "source": [
    "# Print all column names"
   ]
  },
  {
   "cell_type": "code",
   "execution_count": null,
   "id": "82be5c65-eea3-4e07-ba74-d23020866237",
   "metadata": {},
   "outputs": [],
   "source": [
    "print(df.columns.tolist()) "
   ]
  },
  {
   "cell_type": "markdown",
   "id": "2247dc64-c5fa-4267-8918-bee06582ffdb",
   "metadata": {},
   "source": [
    "# Print data types for each column"
   ]
  },
  {
   "cell_type": "code",
   "execution_count": null,
   "id": "46c79e88-371a-4648-a89f-a998bbc7ac84",
   "metadata": {},
   "outputs": [],
   "source": [
    "print(df.dtypes) "
   ]
  },
  {
   "cell_type": "markdown",
   "id": "54dfddd3-c19a-422d-8484-c1623429640d",
   "metadata": {},
   "source": [
    "# Convert InvoiceDate column to datetime format (dayfirst=True for UK date format)"
   ]
  },
  {
   "cell_type": "code",
   "execution_count": null,
   "id": "8923fd9e-1df0-4424-8a5d-237a4f44af27",
   "metadata": {},
   "outputs": [],
   "source": [
    "df['InvoiceDate'] = pd.to_datetime(df['InvoiceDate'], dayfirst=True)"
   ]
  },
  {
   "cell_type": "markdown",
   "id": "b706fe8e-0831-4e96-b7a4-ef3fcab535d9",
   "metadata": {},
   "source": [
    "# Remove rows with missing CustomerID and zero quantity (invalid transactions)"
   ]
  },
  {
   "cell_type": "code",
   "execution_count": null,
   "id": "48daacfd-0cef-4fda-a80b-9b7105777388",
   "metadata": {},
   "outputs": [],
   "source": [
    "df.dropna(subset=['CustomerID'], inplace=True)\n",
    "df = df[df['Quantity'] != 0]"
   ]
  },
  {
   "cell_type": "markdown",
   "id": "27f2728d-af09-4892-884b-65d2f54cca28",
   "metadata": {},
   "source": [
    "# Calculate revenue per transaction (Quantity * UnitPrice)"
   ]
  },
  {
   "cell_type": "code",
   "execution_count": null,
   "id": "d0087828-ce8d-4df9-b2dc-cf9ddf0dec6f",
   "metadata": {},
   "outputs": [],
   "source": [
    "df['Revenue'] = df['Quantity'] * df['UnitPrice']"
   ]
  },
  {
   "cell_type": "code",
   "execution_count": null,
   "id": "b8f827f7-ed92-48a8-8c70-437c36c1b8cf",
   "metadata": {},
   "outputs": [],
   "source": [
    "print(df.head())  # Display first 5 rows to check data"
   ]
  },
  {
   "cell_type": "markdown",
   "id": "ed472bba-bde6-4f83-8031-6d077808f6db",
   "metadata": {},
   "source": [
    "## Total Sales Revenue Calculation"
   ]
  },
  {
   "cell_type": "markdown",
   "id": "9f9dda8d-cd7c-4025-8975-771696f63113",
   "metadata": {},
   "source": [
    "total_revenue = df['Revenue'].sum()\n",
    "print(f\"Total Revenue: £{total_revenue:,.2f}\")"
   ]
  },
  {
   "cell_type": "markdown",
   "id": "884bb304-e624-45d4-8b52-8af3c9792f77",
   "metadata": {},
   "source": [
    "##  Top Products Sold (By Quantity and Revenue)"
   ]
  },
  {
   "cell_type": "code",
   "execution_count": null,
   "id": "813bf6c9-e1ba-49b7-8854-f01bee7a7650",
   "metadata": {},
   "outputs": [],
   "source": [
    "top_products_qty = df.groupby('Description')['Quantity'].sum().sort_values(ascending=False).head(10)\n",
    "top_products_rev = df.groupby('Description')['Revenue'].sum().sort_values(ascending=False).head(10)\n",
    "print(top_products_qty)\n",
    "print(top_products_rev)"
   ]
  },
  {
   "cell_type": "markdown",
   "id": "f1d22753-fda4-43a3-bf62-8c8c4bc38e93",
   "metadata": {},
   "source": [
    "  # Check columns again"
   ]
  },
  {
   "cell_type": "code",
   "execution_count": null,
   "id": "370b8d22-9233-4aa4-9a4e-63e4a01ad8ac",
   "metadata": {},
   "outputs": [],
   "source": [
    "print(df.columns)"
   ]
  },
  {
   "cell_type": "markdown",
   "id": "96fc07c3-76b3-4a76-b062-6d702fd24605",
   "metadata": {},
   "source": [
    "## Sales Trends Over Time (Monthly and Daily revenue)"
   ]
  },
  {
   "cell_type": "markdown",
   "id": "11e5203d-c283-4ed9-aa53-9c0ff7bc6268",
   "metadata": {},
   "source": [
    "# Ensure InvoiceDate is set as DataFrame index for resampling"
   ]
  },
  {
   "cell_type": "code",
   "execution_count": null,
   "id": "6802e25b-f4b7-48c4-a072-e1535bf1a092",
   "metadata": {},
   "outputs": [],
   "source": [
    "if df.index.name != 'InvoiceDate':\n",
    "    df.set_index('InvoiceDate', inplace=True)"
   ]
  },
  {
   "cell_type": "markdown",
   "id": "330a807d-e7dd-40f9-a45b-4d1d4e4ae519",
   "metadata": {},
   "source": [
    "# Calculate monthly total revenue and plot it"
   ]
  },
  {
   "cell_type": "code",
   "execution_count": null,
   "id": "d2a15362-53d3-4056-ba31-f56cbc0643b8",
   "metadata": {},
   "outputs": [],
   "source": [
    "monthly_sales = df['Revenue'].resample('M').sum()\n",
    "\n",
    "monthly_sales.plot(title=\"Monthly Sales Revenue\")\n",
    "plt.xlabel('Month')\n",
    "plt.ylabel('Revenue (£)')\n",
    "plt.tight_layout()\n",
    "plt.show()"
   ]
  },
  {
   "cell_type": "markdown",
   "id": "a2109777-aefa-4893-b829-6891385b57fc",
   "metadata": {},
   "source": [
    "# Calculate daily total revenue and plot it"
   ]
  },
  {
   "cell_type": "code",
   "execution_count": null,
   "id": "7394e8df-4971-4ece-b190-cb677f241319",
   "metadata": {},
   "outputs": [],
   "source": [
    "daily_sales = df['Revenue'].resample('D').sum()\n",
    "daily_sales.plot(title=\"Daily Sales Revenue\")\n",
    "plt.xlabel('Date')\n",
    "plt.ylabel('Revenue (£)')\n",
    "plt.tight_layout()\n",
    "plt.show()"
   ]
  },
  {
   "cell_type": "markdown",
   "id": "a849c504-acc3-4bb5-a71d-f1a4e90c0005",
   "metadata": {},
   "source": [
    "# Reset index after resampling"
   ]
  },
  {
   "cell_type": "code",
   "execution_count": null,
   "id": "475ba979-2a72-4dca-9239-b72cc0d0ef06",
   "metadata": {},
   "outputs": [],
   "source": [
    "df.reset_index(inplace=True)"
   ]
  },
  {
   "cell_type": "markdown",
   "id": "cfc6f03a-d36d-48bf-b5cc-808002f0d6d1",
   "metadata": {},
   "source": [
    "# Debug prints to verify data structure"
   ]
  },
  {
   "cell_type": "code",
   "execution_count": null,
   "id": "fe65d3f0-d4fe-4fed-989a-5025f555dbfe",
   "metadata": {},
   "outputs": [],
   "source": [
    "print(df.index.name)     #  # Should be None after reset\n",
    "print(df.index.dtype)    # Check index data type\n",
    "print(df.columns)        # Confirm InvoiceDate is a column again"
   ]
  },
  {
   "cell_type": "markdown",
   "id": "4f839463-0700-4500-8878-d66b4c8d4167",
   "metadata": {},
   "source": [
    "# Set snapshot date to one day after the latest InvoiceDate for RFM calculations\n"
   ]
  },
  {
   "cell_type": "code",
   "execution_count": null,
   "id": "731171b2-ab39-4394-b9a7-a1a31cd97e08",
   "metadata": {},
   "outputs": [],
   "source": [
    "df['InvoiceDate'] = pd.to_datetime(df['InvoiceDate'])\n",
    "snapshot_date = df['InvoiceDate'].max() + pd.Timedelta(days=1)"
   ]
  },
  {
   "cell_type": "markdown",
   "id": "6e127251-7f25-427c-bb8e-300cc8663604",
   "metadata": {},
   "source": [
    "## Customer Segmentation Using RFM (Recency, Frequency, Monetary)"
   ]
  },
  {
   "cell_type": "code",
   "execution_count": null,
   "id": "b83da071-859f-4af9-a413-8424d886ff86",
   "metadata": {},
   "outputs": [],
   "source": [
    "snapshot_date = df.index.max() + pd.Timedelta(days=1)\n",
    "\n",
    "rfm = df.groupby('CustomerID').agg({\n",
    "    'InvoiceDate': lambda x: (snapshot_date - x.max()).days,\n",
    "    'InvoiceNo': 'nunique',\n",
    "    'Revenue': 'sum'\n",
    "})\n",
    "rfm.columns = ['Recency', 'Frequency', 'Monetary']\n",
    "rfm = rfm[rfm['Monetary'] > 0]\n",
    "print(rfm)"
   ]
  },
  {
   "cell_type": "markdown",
   "id": "e5488175-6e97-4998-b6ff-5e74324b86f4",
   "metadata": {},
   "source": [
    "## Country-wise Sales Analysis"
   ]
  },
  {
   "cell_type": "code",
   "execution_count": null,
   "id": "c12092b4-54ed-4494-8556-44e4e5d9f251",
   "metadata": {},
   "outputs": [],
   "source": [
    "country_sales = df.groupby('Country')['Revenue'].sum().sort_values(ascending=False)\n",
    "print(country_sales)"
   ]
  },
  {
   "cell_type": "markdown",
   "id": "60e2e1d8-ed33-46b8-b2b9-a48c306f348d",
   "metadata": {},
   "source": [
    "## Return Rate Analysis"
   ]
  },
  {
   "cell_type": "code",
   "execution_count": null,
   "id": "a3a7f811-f761-4059-bc7c-656d04a1a23a",
   "metadata": {},
   "outputs": [],
   "source": [
    "returns = df[df['Quantity'] < 0]\n",
    "return_rate = len(returns) / len(df)\n",
    "print(f\"Return Rate: {return_rate:.2%}\")"
   ]
  },
  {
   "cell_type": "markdown",
   "id": "a836229c-7a2f-40a5-ad00-ce00b60adb75",
   "metadata": {},
   "source": [
    "## Market Basket Analysis\n",
    "## Prepare the data in basket format (invoice-wise product matrix)"
   ]
  },
  {
   "cell_type": "code",
   "execution_count": null,
   "id": "9de12217-afc7-40e6-9065-ac57c5a3e74d",
   "metadata": {},
   "outputs": [],
   "source": [
    "\n",
    "\n",
    "basket = df[df['Country'] == 'United Kingdom']\n",
    "basket = basket[basket['Quantity'] > 0]\n",
    "basket = basket.groupby(['InvoiceNo', 'Description'])['Quantity'].sum().unstack().fillna(0)\n",
    "basket = (basket > 0).astype(int)\n",
    "print(basket.head())"
   ]
  },
  {
   "cell_type": "markdown",
   "id": "1bb35373-9ec7-4025-b520-1fee6283d5a2",
   "metadata": {},
   "source": [
    "## Customer Lifetime Value (CLV)"
   ]
  },
  {
   "cell_type": "code",
   "execution_count": null,
   "id": "d23ee42e-5310-40df-9ec8-4234450891c2",
   "metadata": {},
   "outputs": [],
   "source": [
    "clv = df.groupby('CustomerID').agg({\n",
    "    'Revenue': 'sum',\n",
    "    'InvoiceNo': 'nunique',\n",
    "    'InvoiceDate': ['min', 'max']\n",
    "})\n",
    "\n",
    "clv.columns = ['TotalRevenue', 'Frequency', 'FirstPurchase', 'LastPurchase']\n",
    "clv['CustomerAge'] = (clv['LastPurchase'] - clv['FirstPurchase']).dt.days + 1\n",
    "clv['CLV'] = clv['TotalRevenue'] / clv['CustomerAge'] * 30  # Monthly value\n",
    "print(clv.head())"
   ]
  },
  {
   "cell_type": "code",
   "execution_count": null,
   "id": "0e7740e8-411b-4142-97e8-ae2646cd7f0f",
   "metadata": {},
   "outputs": [],
   "source": []
  }
 ],
 "metadata": {
  "kernelspec": {
   "display_name": "Python 3 (ipykernel)",
   "language": "python",
   "name": "python3"
  },
  "language_info": {
   "codemirror_mode": {
    "name": "ipython",
    "version": 3
   },
   "file_extension": ".py",
   "mimetype": "text/x-python",
   "name": "python",
   "nbconvert_exporter": "python",
   "pygments_lexer": "ipython3",
   "version": "3.13.3"
  }
 },
 "nbformat": 4,
 "nbformat_minor": 5
}
